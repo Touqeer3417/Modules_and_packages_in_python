{
 "cells": [
  {
   "cell_type": "markdown",
   "id": "448d0608",
   "metadata": {},
   "source": [
    "# Modulels and Packages"
   ]
  },
  {
   "cell_type": "code",
   "execution_count": 4,
   "id": "74c76d7a",
   "metadata": {},
   "outputs": [
    {
     "data": {
      "text/plain": [
       "5.830951894845301"
      ]
     },
     "execution_count": 4,
     "metadata": {},
     "output_type": "execute_result"
    }
   ],
   "source": [
    "import math\n",
    "math.sqrt(34)\n"
   ]
  },
  {
   "cell_type": "code",
   "execution_count": 6,
   "id": "b9ae41f5",
   "metadata": {},
   "outputs": [
    {
     "name": "stdout",
     "output_type": "stream",
     "text": [
      "3.141592653589793\n",
      "5.830951894845301\n"
     ]
    }
   ],
   "source": [
    "from math import pi ,sqrt\n",
    "print(pi)\n",
    "print(sqrt(34))"
   ]
  },
  {
   "cell_type": "code",
   "execution_count": null,
   "id": "ad76cf17",
   "metadata": {},
   "outputs": [],
   "source": [
    "import numpy as np\n"
   ]
  },
  {
   "cell_type": "code",
   "execution_count": 9,
   "id": "7947a7f1",
   "metadata": {},
   "outputs": [
    {
     "name": "stdout",
     "output_type": "stream",
     "text": [
      "0.5290826861200238\n",
      "-1.995200412208242\n",
      "0.0\n"
     ]
    }
   ],
   "source": [
    "from math import *\n",
    "\n",
    "max(23,34)\n",
    "min(23,1)\n",
    "print(sin(34))\n",
    "print(tan(90))\n",
    "print(tan(0))"
   ]
  },
  {
   "cell_type": "code",
   "execution_count": 11,
   "id": "e632b13e",
   "metadata": {},
   "outputs": [
    {
     "data": {
      "text/plain": [
       "68"
      ]
     },
     "execution_count": 11,
     "metadata": {},
     "output_type": "execute_result"
    }
   ],
   "source": [
    "from package.maths import addition\n",
    "addition(34,34)"
   ]
  }
 ],
 "metadata": {
  "kernelspec": {
   "display_name": "base",
   "language": "python",
   "name": "python3"
  },
  "language_info": {
   "codemirror_mode": {
    "name": "ipython",
    "version": 3
   },
   "file_extension": ".py",
   "mimetype": "text/x-python",
   "name": "python",
   "nbconvert_exporter": "python",
   "pygments_lexer": "ipython3",
   "version": "3.13.5"
  }
 },
 "nbformat": 4,
 "nbformat_minor": 5
}
